{
 "cells": [
  {
   "cell_type": "markdown",
   "id": "1a48116c-e8f8-4719-aac3-cd72e5dc7a3a",
   "metadata": {},
   "source": [
    "#### **PACKAGES**"
   ]
  },
  {
   "cell_type": "markdown",
   "id": "027f6f30-a4f9-4340-9013-2c58cbf4b032",
   "metadata": {},
   "source": [
    "To install spaCy, follow the instructions in https://spacy.io/usage  \n",
    "Operating System, Platform (**ARM/M1** if you have a Apple M1-M3 chip), Package manager, Hardware, Configurations (**virtual env**), Trained pipelines (**English**, **French**, **Spanish**), Select pipeline for (**accuracy**)"
   ]
  },
  {
   "cell_type": "code",
   "execution_count": 76,
   "id": "2a13e707-9e43-40f1-954f-57b235d2707f",
   "metadata": {},
   "outputs": [],
   "source": [
    "import os, sys, csv, time, re\n",
    "import pandas as pd, numpy as np, matplotlib.pyplot as plt\n",
    "import openpyxl\n",
    "from pickle import load\n",
    "from datetime import datetime\n",
    "import spacy\n",
    "from wordcloud import WordCloud\n",
    "import matplotlib.pyplot as plt\n",
    "from collections import Counter"
   ]
  },
  {
   "cell_type": "code",
   "execution_count": 2,
   "id": "96cdd7a3-b88f-47ac-8d14-dcc7577af1af",
   "metadata": {},
   "outputs": [
    {
     "name": "stdout",
     "output_type": "stream",
     "text": [
      "3.11.11 (main, Dec 11 2024, 10:25:04) [Clang 14.0.6 ]\n"
     ]
    }
   ],
   "source": [
    "print(sys.version)"
   ]
  },
  {
   "cell_type": "markdown",
   "id": "5d598e72-30db-400d-b4f2-55d5000d40da",
   "metadata": {},
   "source": [
    "#### **QUICK SETUP**"
   ]
  },
  {
   "cell_type": "code",
   "execution_count": 2,
   "id": "4cc5d065-4f26-4d5a-ace7-d3d3acb9fba0",
   "metadata": {},
   "outputs": [],
   "source": [
    "pd.set_option('display.max_rows', None)"
   ]
  },
  {
   "cell_type": "code",
   "execution_count": 2,
   "id": "3ad7c719-2f37-459a-8460-d3057c03299c",
   "metadata": {},
   "outputs": [],
   "source": [
    "cty = \"Uzbekistan\" #<<<<<<<<<<<<<<<<<<<<<<<<<<<<<<<<<<<<<<<<<<<<<<<<<<<<<<<<<< change here!\n",
    "lang = \"English\" #<<<<<<<<<<<<<<<<<<<<<<<<<<<<<<<<<<<<<<<<<<<<<<<<<<<<<<<<<<<< change here!"
   ]
  },
  {
   "cell_type": "markdown",
   "id": "c76a6356-6e06-4333-8df5-caedc42441fe",
   "metadata": {},
   "source": [
    "#### **DATA IMPORT**"
   ]
  },
  {
   "cell_type": "code",
   "execution_count": 3,
   "id": "51b2c907-970c-4afb-ad51-f1c845afa17d",
   "metadata": {},
   "outputs": [
    {
     "name": "stdout",
     "output_type": "stream",
     "text": [
      "/Users/julienmhp/Desktop/undp/TargetAssessmentReport/data/countries/uzbekistan\n"
     ]
    }
   ],
   "source": [
    "#print(os.getcwd())\n",
    "path = os.getcwd() + \"/data/countries/\" + cty.lower().replace(\" \", \"_\")\n",
    "print(path)"
   ]
  },
  {
   "cell_type": "code",
   "execution_count": 4,
   "id": "53105044-eacd-4fa4-8a14-51a77acc1778",
   "metadata": {},
   "outputs": [
    {
     "name": "stdout",
     "output_type": "stream",
     "text": [
      "/Users/julienmhp/Desktop/undp/TargetAssessmentReport/data/countries/uzbekistan/data_uzbekistan_22May25.xlsx\n"
     ]
    }
   ],
   "source": [
    "file = [os.path.join(path, f) for f in os.listdir(path) if cty.lower().replace(\" \", \"_\") in f and f.endswith(\".xlsx\")]\n",
    "print(file[0])"
   ]
  },
  {
   "cell_type": "code",
   "execution_count": 5,
   "id": "68cad7a8-34c3-49f1-99a1-6627e49c069f",
   "metadata": {},
   "outputs": [],
   "source": [
    "dta = pd.read_excel(file[0], sheet_name = \"targets\", engine = \"openpyxl\")"
   ]
  },
  {
   "cell_type": "code",
   "execution_count": 9,
   "id": "f43f6310-18ab-4530-80a0-7b65532e28f6",
   "metadata": {},
   "outputs": [
    {
     "data": {
      "text/html": [
       "<div>\n",
       "<style scoped>\n",
       "    .dataframe tbody tr th:only-of-type {\n",
       "        vertical-align: middle;\n",
       "    }\n",
       "\n",
       "    .dataframe tbody tr th {\n",
       "        vertical-align: top;\n",
       "    }\n",
       "\n",
       "    .dataframe thead th {\n",
       "        text-align: right;\n",
       "    }\n",
       "</style>\n",
       "<table border=\"1\" class=\"dataframe\">\n",
       "  <thead>\n",
       "    <tr style=\"text-align: right;\">\n",
       "      <th></th>\n",
       "      <th>Country</th>\n",
       "      <th>Target Text</th>\n",
       "      <th>Target Name</th>\n",
       "      <th>Document</th>\n",
       "      <th>Source</th>\n",
       "      <th>Convention</th>\n",
       "      <th>Doc</th>\n",
       "      <th>Type</th>\n",
       "    </tr>\n",
       "  </thead>\n",
       "  <tbody>\n",
       "    <tr>\n",
       "      <th>0</th>\n",
       "      <td>Uzbekistan</td>\n",
       "      <td>By 2030 all areas of Uzbekistan are under a na...</td>\n",
       "      <td>CBD Target 1a</td>\n",
       "      <td>CBD Online Reporting Tool</td>\n",
       "      <td>https://ort.cbd.int/national-targets/analyzer?...</td>\n",
       "      <td>nature</td>\n",
       "      <td>CBDORT</td>\n",
       "      <td>National Biodiversity Targets</td>\n",
       "    </tr>\n",
       "    <tr>\n",
       "      <th>1</th>\n",
       "      <td>Uzbekistan</td>\n",
       "      <td>By 2030 all cities in Uzbekistan have “masterp...</td>\n",
       "      <td>CBD Target 1b</td>\n",
       "      <td>CBD Online Reporting Tool</td>\n",
       "      <td>https://ort.cbd.int/national-targets/analyzer?...</td>\n",
       "      <td>nature</td>\n",
       "      <td>CBDORT</td>\n",
       "      <td>National Biodiversity Targets</td>\n",
       "    </tr>\n",
       "    <tr>\n",
       "      <th>2</th>\n",
       "      <td>Uzbekistan</td>\n",
       "      <td>By 2030 undertake the ecological restoration o...</td>\n",
       "      <td>CBD Target 2</td>\n",
       "      <td>CBD Online Reporting Tool</td>\n",
       "      <td>https://ort.cbd.int/national-targets/analyzer?...</td>\n",
       "      <td>nature</td>\n",
       "      <td>CBDORT</td>\n",
       "      <td>National Biodiversity Targets</td>\n",
       "    </tr>\n",
       "    <tr>\n",
       "      <th>3</th>\n",
       "      <td>Uzbekistan</td>\n",
       "      <td>Undertake urgent management actions to conserv...</td>\n",
       "      <td>CBD Target 3</td>\n",
       "      <td>CBD Online Reporting Tool</td>\n",
       "      <td>https://ort.cbd.int/national-targets/analyzer?...</td>\n",
       "      <td>nature</td>\n",
       "      <td>CBDORT</td>\n",
       "      <td>National Biodiversity Targets</td>\n",
       "    </tr>\n",
       "    <tr>\n",
       "      <th>4</th>\n",
       "      <td>Uzbekistan</td>\n",
       "      <td>By 2030 at least 30 percent of Uzbekistan’s te...</td>\n",
       "      <td>CBD Target 4</td>\n",
       "      <td>CBD Online Reporting Tool</td>\n",
       "      <td>https://ort.cbd.int/national-targets/analyzer?...</td>\n",
       "      <td>nature</td>\n",
       "      <td>CBDORT</td>\n",
       "      <td>National Biodiversity Targets</td>\n",
       "    </tr>\n",
       "  </tbody>\n",
       "</table>\n",
       "</div>"
      ],
      "text/plain": [
       "      Country                                        Target Text  \\\n",
       "0  Uzbekistan  By 2030 all areas of Uzbekistan are under a na...   \n",
       "1  Uzbekistan  By 2030 all cities in Uzbekistan have “masterp...   \n",
       "2  Uzbekistan  By 2030 undertake the ecological restoration o...   \n",
       "3  Uzbekistan  Undertake urgent management actions to conserv...   \n",
       "4  Uzbekistan  By 2030 at least 30 percent of Uzbekistan’s te...   \n",
       "\n",
       "     Target Name                   Document  \\\n",
       "0  CBD Target 1a  CBD Online Reporting Tool   \n",
       "1  CBD Target 1b  CBD Online Reporting Tool   \n",
       "2   CBD Target 2  CBD Online Reporting Tool   \n",
       "3   CBD Target 3  CBD Online Reporting Tool   \n",
       "4   CBD Target 4  CBD Online Reporting Tool   \n",
       "\n",
       "                                              Source Convention     Doc  \\\n",
       "0  https://ort.cbd.int/national-targets/analyzer?...     nature  CBDORT   \n",
       "1  https://ort.cbd.int/national-targets/analyzer?...     nature  CBDORT   \n",
       "2  https://ort.cbd.int/national-targets/analyzer?...     nature  CBDORT   \n",
       "3  https://ort.cbd.int/national-targets/analyzer?...     nature  CBDORT   \n",
       "4  https://ort.cbd.int/national-targets/analyzer?...     nature  CBDORT   \n",
       "\n",
       "                            Type  \n",
       "0  National Biodiversity Targets  \n",
       "1  National Biodiversity Targets  \n",
       "2  National Biodiversity Targets  \n",
       "3  National Biodiversity Targets  \n",
       "4  National Biodiversity Targets  "
      ]
     },
     "execution_count": 9,
     "metadata": {},
     "output_type": "execute_result"
    }
   ],
   "source": [
    "dta.head()"
   ]
  },
  {
   "cell_type": "code",
   "execution_count": 10,
   "id": "71e89089-6a52-48e0-8873-7fedad6748c0",
   "metadata": {},
   "outputs": [
    {
     "data": {
      "text/plain": [
       "(41, 8)"
      ]
     },
     "execution_count": 10,
     "metadata": {},
     "output_type": "execute_result"
    }
   ],
   "source": [
    "dta.shape"
   ]
  },
  {
   "cell_type": "markdown",
   "id": "9952534a-569b-4469-bf2b-dd3bb017a8fd",
   "metadata": {},
   "source": [
    "#### **MODEL**"
   ]
  },
  {
   "cell_type": "markdown",
   "id": "dd471b9f-d101-4af5-b689-9efed01f547b",
   "metadata": {},
   "source": [
    "The **spaCy** model for NLP - what to know\n",
    "- **token** each work or symbol  \n",
    "- **lemma** root of lowecase token\n",
    "- **pos** part-of-speech\n",
    "- **dependency** relations between tokens\n",
    "- **entity** grammatical role played in phrase"
   ]
  },
  {
   "cell_type": "code",
   "execution_count": 10,
   "id": "081b325f-5330-42ff-a245-134dcfd0825b",
   "metadata": {},
   "outputs": [
    {
     "name": "stdout",
     "output_type": "stream",
     "text": [
      "('$', \"''\", ',', '-LRB-', '-RRB-', '.', ':', 'ADD', 'AFX', 'CC', 'CD', 'DT', 'EX', 'FW', 'HYPH', 'IN', 'JJ', 'JJR', 'JJS', 'LS', 'MD', 'NFP', 'NN', 'NNP', 'NNPS', 'NNS', 'PDT', 'POS', 'PRP', 'PRP$', 'RB', 'RBR', 'RBS', 'RP', 'SYM', 'TO', 'UH', 'VB', 'VBD', 'VBG', 'VBN', 'VBP', 'VBZ', 'WDT', 'WP', 'WP$', 'WRB', 'XX', '``')\n"
     ]
    }
   ],
   "source": [
    "# POS\n",
    "print(nlp.get_pipe(\"tagger\").labels)\n",
    "# ADJ (adjective), ADP (adposition), ADV (adverb), AUX (auxiliary verb), CONJ (conjugation), CCONJ (coordinating conjugation), \n",
    "# DET (determiner), INTJ (interjection), NOUN, NUM, PART (particle), PRON (pronoun), PROPN (proper noun), PUNCT (punctuation), \n",
    "# SCONJ (subordinating conjugation), SYM (symbol), VERB , X (other/unknown), SPACE (white space)"
   ]
  },
  {
   "cell_type": "code",
   "execution_count": 12,
   "id": "f5a22a6f-1756-4c1c-94e2-4c4cba854ccf",
   "metadata": {},
   "outputs": [
    {
     "name": "stdout",
     "output_type": "stream",
     "text": [
      "('ROOT', 'acl', 'acomp', 'advcl', 'advmod', 'agent', 'amod', 'appos', 'attr', 'aux', 'auxpass', 'case', 'cc', 'ccomp', 'compound', 'conj', 'csubj', 'csubjpass', 'dative', 'dep', 'det', 'dobj', 'expl', 'intj', 'mark', 'meta', 'neg', 'nmod', 'npadvmod', 'nsubj', 'nsubjpass', 'nummod', 'oprd', 'parataxis', 'pcomp', 'pobj', 'poss', 'preconj', 'predet', 'prep', 'prt', 'punct', 'quantmod', 'relcl', 'xcomp')\n"
     ]
    }
   ],
   "source": [
    "# Dependencies\n",
    "print(nlp.get_pipe(\"parser\").labels)\n",
    "# ROOT (root of sentence), bsubj (nominal subject), nsubjpass (passive nominal subject), \n",
    "# dobj (direct object), iobj (indirect object), attr (attribute), prep (preposition modifier), \n",
    "# pobj (object of a preposition), amod (adjectival modifier), advmod (adverbial modifier), \n",
    "# compound (compound noun modifier), aux (auxiliary verb), auxpass (passive auxliary), \n",
    "# det (determiner), conj (conjugation), cc (coordinating conjugation), mod (nominal modifier), \n",
    "# npadvmod (noun phrase as adverbial modifier), poss (possession modifier), \n",
    "# ccomp (clausal complement), xcomp (open clausal complement), mark (marker for subordinate clause)"
   ]
  },
  {
   "cell_type": "code",
   "execution_count": 13,
   "id": "0fbc4d75-6920-45b1-9f75-99e8c70d852b",
   "metadata": {},
   "outputs": [
    {
     "name": "stdout",
     "output_type": "stream",
     "text": [
      "('CARDINAL', 'DATE', 'EVENT', 'FAC', 'GPE', 'LANGUAGE', 'LAW', 'LOC', 'MONEY', 'NORP', 'ORDINAL', 'ORG', 'PERCENT', 'PERSON', 'PRODUCT', 'QUANTITY', 'TIME', 'WORK_OF_ART')\n"
     ]
    }
   ],
   "source": [
    "# Entities\n",
    "print(nlp.get_pipe(\"ner\").labels)\n",
    "# GPE (country, state, city, ...), \n",
    "# NORP (nationality, religious or political groups, ...), \n",
    "# FAC (buildings, airports, highways, ...), \n",
    "# LAW (doucments)"
   ]
  },
  {
   "cell_type": "code",
   "execution_count": 7,
   "id": "98e7d452-6660-48e9-a9fc-ed4257904466",
   "metadata": {},
   "outputs": [],
   "source": [
    "if lang == \"English\":\n",
    "    lang_cd = \"en\"\n",
    "    media = \"web\"\n",
    "    model = \"core\"\n",
    "elif lang == \"Spanish\":\n",
    "    lang_cd = \"es\"\n",
    "    media = \"news\"\n",
    "    model = \"dep\"\n",
    "elif lang == \"French\":\n",
    "    lang_cd = \"fr\"\n",
    "    media = \"news\"\n",
    "    model = \"dep\""
   ]
  },
  {
   "cell_type": "code",
   "execution_count": 8,
   "id": "ae875fb8-c878-490e-9c8b-f7ff38820a68",
   "metadata": {},
   "outputs": [
    {
     "data": {
      "text/plain": [
       "'en_core_web_trf'"
      ]
     },
     "execution_count": 8,
     "metadata": {},
     "output_type": "execute_result"
    }
   ],
   "source": [
    "lang_cd+\"_\"+model+\"_\"+media+\"_trf\""
   ]
  },
  {
   "cell_type": "code",
   "execution_count": 9,
   "id": "5141b10e-2fac-48d1-ad29-a08d2a5c1b6d",
   "metadata": {},
   "outputs": [],
   "source": [
    "nlp = spacy.load(lang_cd+\"_\"+model+\"_\"+media+\"_trf\")"
   ]
  },
  {
   "cell_type": "code",
   "execution_count": 11,
   "id": "527ec6f7-468c-4206-9663-e8ab5fddc099",
   "metadata": {},
   "outputs": [],
   "source": [
    "corpus = list(nlp.pipe(dta[\"Target Text\"]))"
   ]
  },
  {
   "cell_type": "code",
   "execution_count": 12,
   "id": "df8bffff-ca9c-4cf7-9118-392d007557c0",
   "metadata": {},
   "outputs": [],
   "source": [
    "rows = []\n",
    "for corpus, text in zip(corpus, dta[\"Target Name\"]):\n",
    "    for token in corpus:\n",
    "        rows.append({\n",
    "            \"Target Name\": text,\n",
    "            \"token\": token.text,\n",
    "            \"lemma\": token.lemma_,\n",
    "            \"pos\": token.pos_,\n",
    "            \"dependency\": token.dep_,\n",
    "            \"entity\": token.ent_type_\n",
    "        })\n",
    "\n",
    "tokens_df = pd.DataFrame(rows)"
   ]
  },
  {
   "cell_type": "markdown",
   "id": "1ca59823-8a29-46f2-9bb5-8fbab4eb58f9",
   "metadata": {},
   "source": [
    "### **Corrections**"
   ]
  },
  {
   "cell_type": "code",
   "execution_count": 13,
   "id": "cef571fa-6f60-4473-932a-21d7e61fc2ad",
   "metadata": {
    "scrolled": true
   },
   "outputs": [
    {
     "data": {
      "text/html": [
       "<div>\n",
       "<style scoped>\n",
       "    .dataframe tbody tr th:only-of-type {\n",
       "        vertical-align: middle;\n",
       "    }\n",
       "\n",
       "    .dataframe tbody tr th {\n",
       "        vertical-align: top;\n",
       "    }\n",
       "\n",
       "    .dataframe thead th {\n",
       "        text-align: right;\n",
       "    }\n",
       "</style>\n",
       "<table border=\"1\" class=\"dataframe\">\n",
       "  <thead>\n",
       "    <tr style=\"text-align: right;\">\n",
       "      <th></th>\n",
       "      <th>Target Name</th>\n",
       "      <th>token</th>\n",
       "      <th>lemma</th>\n",
       "      <th>pos</th>\n",
       "      <th>dependency</th>\n",
       "      <th>entity</th>\n",
       "    </tr>\n",
       "  </thead>\n",
       "  <tbody>\n",
       "    <tr>\n",
       "      <th>182</th>\n",
       "      <td>CBD Target 4</td>\n",
       "      <td>By</td>\n",
       "      <td>by</td>\n",
       "      <td>ADP</td>\n",
       "      <td>prep</td>\n",
       "      <td></td>\n",
       "    </tr>\n",
       "    <tr>\n",
       "      <th>183</th>\n",
       "      <td>CBD Target 4</td>\n",
       "      <td>2030</td>\n",
       "      <td>2030</td>\n",
       "      <td>NUM</td>\n",
       "      <td>pobj</td>\n",
       "      <td>DATE</td>\n",
       "    </tr>\n",
       "    <tr>\n",
       "      <th>184</th>\n",
       "      <td>CBD Target 4</td>\n",
       "      <td>at</td>\n",
       "      <td>at</td>\n",
       "      <td>ADV</td>\n",
       "      <td>advmod</td>\n",
       "      <td>PERCENT</td>\n",
       "    </tr>\n",
       "    <tr>\n",
       "      <th>185</th>\n",
       "      <td>CBD Target 4</td>\n",
       "      <td>least</td>\n",
       "      <td>least</td>\n",
       "      <td>ADV</td>\n",
       "      <td>advmod</td>\n",
       "      <td>PERCENT</td>\n",
       "    </tr>\n",
       "    <tr>\n",
       "      <th>186</th>\n",
       "      <td>CBD Target 4</td>\n",
       "      <td>30</td>\n",
       "      <td>30</td>\n",
       "      <td>NUM</td>\n",
       "      <td>nummod</td>\n",
       "      <td>PERCENT</td>\n",
       "    </tr>\n",
       "    <tr>\n",
       "      <th>...</th>\n",
       "      <td>...</td>\n",
       "      <td>...</td>\n",
       "      <td>...</td>\n",
       "      <td>...</td>\n",
       "      <td>...</td>\n",
       "      <td>...</td>\n",
       "    </tr>\n",
       "    <tr>\n",
       "      <th>241</th>\n",
       "      <td>CBD Target 4</td>\n",
       "      <td>additional</td>\n",
       "      <td>additional</td>\n",
       "      <td>ADJ</td>\n",
       "      <td>amod</td>\n",
       "      <td></td>\n",
       "    </tr>\n",
       "    <tr>\n",
       "      <th>242</th>\n",
       "      <td>CBD Target 4</td>\n",
       "      <td>10</td>\n",
       "      <td>10</td>\n",
       "      <td>NUM</td>\n",
       "      <td>nummod</td>\n",
       "      <td>PERCENT</td>\n",
       "    </tr>\n",
       "    <tr>\n",
       "      <th>243</th>\n",
       "      <td>CBD Target 4</td>\n",
       "      <td>%</td>\n",
       "      <td>%</td>\n",
       "      <td>NOUN</td>\n",
       "      <td>appos</td>\n",
       "      <td>PERCENT</td>\n",
       "    </tr>\n",
       "    <tr>\n",
       "      <th>244</th>\n",
       "      <td>CBD Target 4</td>\n",
       "      <td>)</td>\n",
       "      <td>)</td>\n",
       "      <td>PUNCT</td>\n",
       "      <td>punct</td>\n",
       "      <td></td>\n",
       "    </tr>\n",
       "    <tr>\n",
       "      <th>245</th>\n",
       "      <td>CBD Target 4</td>\n",
       "      <td>.</td>\n",
       "      <td>.</td>\n",
       "      <td>PUNCT</td>\n",
       "      <td>punct</td>\n",
       "      <td></td>\n",
       "    </tr>\n",
       "  </tbody>\n",
       "</table>\n",
       "<p>64 rows × 6 columns</p>\n",
       "</div>"
      ],
      "text/plain": [
       "      Target Name       token       lemma    pos dependency   entity\n",
       "182  CBD Target 4          By          by    ADP       prep         \n",
       "183  CBD Target 4        2030        2030    NUM       pobj     DATE\n",
       "184  CBD Target 4          at          at    ADV     advmod  PERCENT\n",
       "185  CBD Target 4       least       least    ADV     advmod  PERCENT\n",
       "186  CBD Target 4          30          30    NUM     nummod  PERCENT\n",
       "..            ...         ...         ...    ...        ...      ...\n",
       "241  CBD Target 4  additional  additional    ADJ       amod         \n",
       "242  CBD Target 4          10          10    NUM     nummod  PERCENT\n",
       "243  CBD Target 4           %           %   NOUN      appos  PERCENT\n",
       "244  CBD Target 4           )           )  PUNCT      punct         \n",
       "245  CBD Target 4           .           .  PUNCT      punct         \n",
       "\n",
       "[64 rows x 6 columns]"
      ]
     },
     "execution_count": 13,
     "metadata": {},
     "output_type": "execute_result"
    }
   ],
   "source": [
    "# Uzbekistan:\n",
    "tokens_df[tokens_df[\"Target Name\"] == dta[\"Target Name\"][4]] # 222 \"I-IV 0 20%\" [...]\n",
    "#tokens_df[tokens_df[\"Target Name\"] == dta[\"Target Name\"][33]] # 1637 \"Target 31\" [√]"
   ]
  },
  {
   "cell_type": "code",
   "execution_count": 14,
   "id": "bd046591-c0fe-4994-b5f9-6d23eedf1b8f",
   "metadata": {},
   "outputs": [],
   "source": [
    "# Ensures that the word \"by\", followed by a number representing a date also is considered as a date\n",
    "tokens_df.loc[\n",
    "    (tokens_df[\"lemma\"] == \"by\") & \n",
    "    (tokens_df[\"pos\"].shift(-1) == \"NUM\") & \n",
    "    (tokens_df[\"entity\"].shift(-1) == \"DATE\"), \n",
    "    \"entity\"] = tokens_df[\"entity\"].shift(-1)\n",
    "\n",
    "# Ensures that numbers preceded by any terms such as \"target\" are not regarded as numbers\n",
    "org = [\"target\", \"targets\", \"goal\", \"goals\", \"objective\", \"objectives\", \"figure\", \"table\", \n",
    "       \"zone\", \"zones\", \"strategy\", \"strategies\", \"strategic\", \"plan\", \"plans\", \n",
    "       \"phase\", \"phases\", \"agenda\", \"agendas\", \"policy\", \"policies\", \"stage\", \"stages\", \n",
    "       \"programme\", \"programmes\", \"action\", \"actions\", \"budget\"]\n",
    "tokens_df.loc[\n",
    "    (tokens_df[\"entity\"] == \"CARDINAL\") & \n",
    "    (tokens_df[\"lemma\"].shift(1).isin(org)), \"entity\"] = \"\"\n",
    "\n",
    "# Ensures that \"GPE\", \"ORG\" and \"LAW\" are discarded as relevant to the analysis - not quant nor temporal\n",
    "tokens_df.loc[\n",
    "    (tokens_df[\"entity\"] == \"ORG\") | (tokens_df[\"entity\"] == \"LAW\") |  \n",
    "    (tokens_df[\"entity\"] == \"GPE\") | (tokens_df[\"entity\"] == \"LOC\"), \n",
    "    \"entity\"] = \"\""
   ]
  },
  {
   "cell_type": "code",
   "execution_count": 15,
   "id": "facde126-02cd-4997-8e09-77c4833c86f6",
   "metadata": {},
   "outputs": [],
   "source": [
    "# Eliminates all tokens the \"entity\" parameter of which inexists\n",
    "tokens_df = tokens_df.loc[(tokens_df[\"entity\"] != \"\")]"
   ]
  },
  {
   "cell_type": "code",
   "execution_count": 16,
   "id": "f3096201-25db-4745-9c19-2c40c098d5a6",
   "metadata": {},
   "outputs": [],
   "source": [
    "# Lumps together into a single string consecutive tokens that come from the same entity parameter\n",
    "tokens_df[\"flag\"] = (\n",
    "    (tokens_df[\"entity\"] != tokens_df[\"entity\"].shift()) |\n",
    "    (tokens_df.index != tokens_df.index.to_series().shift() + 1))\n",
    "tokens_df[\"entity_group\"] = tokens_df[\"flag\"].cumsum()\n",
    "tokens_df.drop(columns=\"flag\", inplace=True)"
   ]
  },
  {
   "cell_type": "code",
   "execution_count": 17,
   "id": "a2dc3f1e-2590-4155-8e78-0c94b824854b",
   "metadata": {},
   "outputs": [],
   "source": [
    "tokens_df[\"mergeable\"] = (tokens_df[\"entity\"] != \"\") & (tokens_df[\"entity\"] != \"O\")\n",
    "tokens_df[\"merge_group\"] = tokens_df[\"entity_group\"].where(tokens_df[\"mergeable\"])"
   ]
  },
  {
   "cell_type": "code",
   "execution_count": 18,
   "id": "c085ae9f-2a4e-49b6-ac0f-3b90362b5a51",
   "metadata": {},
   "outputs": [],
   "source": [
    "merged = (\n",
    "    tokens_df.groupby([\"Target Name\", \"merge_group\", \"entity\"], dropna=True)\n",
    "    .agg({\"token\": \" \".join})\n",
    "    .reset_index()\n",
    ")\n",
    "merged = merged.drop([\"merge_group\"], axis = 1)"
   ]
  },
  {
   "cell_type": "code",
   "execution_count": 19,
   "id": "7119738a-3f9a-45a8-8e39-2c8f406b48d5",
   "metadata": {},
   "outputs": [],
   "source": [
    "# ensures there are no spaces between a number and \"%\"\n",
    "merged[\"token\"] = merged[\"token\"].str.replace(r\"(\\d+)\\s+%\", r\"\\1%\", regex=True)"
   ]
  },
  {
   "cell_type": "code",
   "execution_count": 20,
   "id": "6e29fdab-151f-4e20-bc9a-4d9291610c53",
   "metadata": {
    "scrolled": true
   },
   "outputs": [
    {
     "data": {
      "text/html": [
       "<div>\n",
       "<style scoped>\n",
       "    .dataframe tbody tr th:only-of-type {\n",
       "        vertical-align: middle;\n",
       "    }\n",
       "\n",
       "    .dataframe tbody tr th {\n",
       "        vertical-align: top;\n",
       "    }\n",
       "\n",
       "    .dataframe thead th {\n",
       "        text-align: right;\n",
       "    }\n",
       "</style>\n",
       "<table border=\"1\" class=\"dataframe\">\n",
       "  <thead>\n",
       "    <tr style=\"text-align: right;\">\n",
       "      <th></th>\n",
       "      <th>Target Name</th>\n",
       "      <th>entity</th>\n",
       "      <th>token</th>\n",
       "    </tr>\n",
       "  </thead>\n",
       "  <tbody>\n",
       "    <tr>\n",
       "      <th>0</th>\n",
       "      <td>BTR1 Target 3</td>\n",
       "      <td>QUANTITY</td>\n",
       "      <td>at least 7 billion m3</td>\n",
       "    </tr>\n",
       "    <tr>\n",
       "      <th>1</th>\n",
       "      <td>BTR1 Target 7</td>\n",
       "      <td>QUANTITY</td>\n",
       "      <td>2 million hectares</td>\n",
       "    </tr>\n",
       "    <tr>\n",
       "      <th>2</th>\n",
       "      <td>CBD Target 10</td>\n",
       "      <td>DATE</td>\n",
       "      <td>By 2030</td>\n",
       "    </tr>\n",
       "    <tr>\n",
       "      <th>3</th>\n",
       "      <td>CBD Target 12</td>\n",
       "      <td>DATE</td>\n",
       "      <td>By 2030</td>\n",
       "    </tr>\n",
       "    <tr>\n",
       "      <th>4</th>\n",
       "      <td>CBD Target 13</td>\n",
       "      <td>DATE</td>\n",
       "      <td>By 2030</td>\n",
       "    </tr>\n",
       "    <tr>\n",
       "      <th>5</th>\n",
       "      <td>CBD Target 15</td>\n",
       "      <td>DATE</td>\n",
       "      <td>By 2030</td>\n",
       "    </tr>\n",
       "    <tr>\n",
       "      <th>6</th>\n",
       "      <td>CBD Target 16</td>\n",
       "      <td>DATE</td>\n",
       "      <td>2030</td>\n",
       "    </tr>\n",
       "    <tr>\n",
       "      <th>7</th>\n",
       "      <td>CBD Target 17</td>\n",
       "      <td>DATE</td>\n",
       "      <td>By 2030</td>\n",
       "    </tr>\n",
       "    <tr>\n",
       "      <th>8</th>\n",
       "      <td>CBD Target 18a</td>\n",
       "      <td>DATE</td>\n",
       "      <td>By 2026</td>\n",
       "    </tr>\n",
       "    <tr>\n",
       "      <th>9</th>\n",
       "      <td>CBD Target 18b</td>\n",
       "      <td>DATE</td>\n",
       "      <td>By 2030</td>\n",
       "    </tr>\n",
       "    <tr>\n",
       "      <th>10</th>\n",
       "      <td>CBD Target 18c</td>\n",
       "      <td>DATE</td>\n",
       "      <td>By 2030</td>\n",
       "    </tr>\n",
       "    <tr>\n",
       "      <th>11</th>\n",
       "      <td>CBD Target 19a</td>\n",
       "      <td>DATE</td>\n",
       "      <td>By 2026</td>\n",
       "    </tr>\n",
       "    <tr>\n",
       "      <th>12</th>\n",
       "      <td>CBD Target 19b</td>\n",
       "      <td>DATE</td>\n",
       "      <td>By 2030</td>\n",
       "    </tr>\n",
       "    <tr>\n",
       "      <th>13</th>\n",
       "      <td>CBD Target 19b</td>\n",
       "      <td>PERCENT</td>\n",
       "      <td>at least 15%</td>\n",
       "    </tr>\n",
       "    <tr>\n",
       "      <th>14</th>\n",
       "      <td>CBD Target 19c</td>\n",
       "      <td>DATE</td>\n",
       "      <td>By 2030</td>\n",
       "    </tr>\n",
       "    <tr>\n",
       "      <th>15</th>\n",
       "      <td>CBD Target 19d</td>\n",
       "      <td>DATE</td>\n",
       "      <td>By 2030</td>\n",
       "    </tr>\n",
       "    <tr>\n",
       "      <th>16</th>\n",
       "      <td>CBD Target 19e</td>\n",
       "      <td>DATE</td>\n",
       "      <td>By 2030</td>\n",
       "    </tr>\n",
       "    <tr>\n",
       "      <th>17</th>\n",
       "      <td>CBD Target 1a</td>\n",
       "      <td>DATE</td>\n",
       "      <td>By 2030</td>\n",
       "    </tr>\n",
       "    <tr>\n",
       "      <th>18</th>\n",
       "      <td>CBD Target 1b</td>\n",
       "      <td>DATE</td>\n",
       "      <td>By 2030</td>\n",
       "    </tr>\n",
       "    <tr>\n",
       "      <th>19</th>\n",
       "      <td>CBD Target 1b</td>\n",
       "      <td>PERCENT</td>\n",
       "      <td>30%</td>\n",
       "    </tr>\n",
       "    <tr>\n",
       "      <th>20</th>\n",
       "      <td>CBD Target 2</td>\n",
       "      <td>DATE</td>\n",
       "      <td>By 2030</td>\n",
       "    </tr>\n",
       "    <tr>\n",
       "      <th>21</th>\n",
       "      <td>CBD Target 2</td>\n",
       "      <td>PERCENT</td>\n",
       "      <td>at least 30%</td>\n",
       "    </tr>\n",
       "    <tr>\n",
       "      <th>22</th>\n",
       "      <td>CBD Target 20</td>\n",
       "      <td>DATE</td>\n",
       "      <td>By 2030</td>\n",
       "    </tr>\n",
       "    <tr>\n",
       "      <th>23</th>\n",
       "      <td>CBD Target 22</td>\n",
       "      <td>DATE</td>\n",
       "      <td>by 2030</td>\n",
       "    </tr>\n",
       "    <tr>\n",
       "      <th>24</th>\n",
       "      <td>CBD Target 23</td>\n",
       "      <td>CARDINAL</td>\n",
       "      <td>three</td>\n",
       "    </tr>\n",
       "    <tr>\n",
       "      <th>25</th>\n",
       "      <td>CBD Target 4</td>\n",
       "      <td>DATE</td>\n",
       "      <td>By 2030</td>\n",
       "    </tr>\n",
       "    <tr>\n",
       "      <th>26</th>\n",
       "      <td>CBD Target 4</td>\n",
       "      <td>PERCENT</td>\n",
       "      <td>at least 30 percent</td>\n",
       "    </tr>\n",
       "    <tr>\n",
       "      <th>27</th>\n",
       "      <td>CBD Target 4</td>\n",
       "      <td>PERCENT</td>\n",
       "      <td>0 20%</td>\n",
       "    </tr>\n",
       "    <tr>\n",
       "      <th>28</th>\n",
       "      <td>CBD Target 4</td>\n",
       "      <td>PERCENT</td>\n",
       "      <td>10%</td>\n",
       "    </tr>\n",
       "    <tr>\n",
       "      <th>29</th>\n",
       "      <td>CBD Target 6</td>\n",
       "      <td>PERCENT</td>\n",
       "      <td>at least 50%</td>\n",
       "    </tr>\n",
       "    <tr>\n",
       "      <th>30</th>\n",
       "      <td>CBD Target 6</td>\n",
       "      <td>DATE</td>\n",
       "      <td>by 2030</td>\n",
       "    </tr>\n",
       "    <tr>\n",
       "      <th>31</th>\n",
       "      <td>CBD Target 7</td>\n",
       "      <td>DATE</td>\n",
       "      <td>by 2030</td>\n",
       "    </tr>\n",
       "    <tr>\n",
       "      <th>32</th>\n",
       "      <td>CBD Target 9</td>\n",
       "      <td>DATE</td>\n",
       "      <td>by 2030</td>\n",
       "    </tr>\n",
       "    <tr>\n",
       "      <th>33</th>\n",
       "      <td>NDC2 Target 1</td>\n",
       "      <td>PERCENT</td>\n",
       "      <td>25%</td>\n",
       "    </tr>\n",
       "    <tr>\n",
       "      <th>34</th>\n",
       "      <td>NDC2 Target 2</td>\n",
       "      <td>DATE</td>\n",
       "      <td>2018</td>\n",
       "    </tr>\n",
       "  </tbody>\n",
       "</table>\n",
       "</div>"
      ],
      "text/plain": [
       "       Target Name    entity                  token\n",
       "0    BTR1 Target 3  QUANTITY  at least 7 billion m3\n",
       "1    BTR1 Target 7  QUANTITY     2 million hectares\n",
       "2    CBD Target 10      DATE                By 2030\n",
       "3    CBD Target 12      DATE                By 2030\n",
       "4    CBD Target 13      DATE                By 2030\n",
       "5    CBD Target 15      DATE                By 2030\n",
       "6    CBD Target 16      DATE                   2030\n",
       "7    CBD Target 17      DATE                By 2030\n",
       "8   CBD Target 18a      DATE                By 2026\n",
       "9   CBD Target 18b      DATE                By 2030\n",
       "10  CBD Target 18c      DATE                By 2030\n",
       "11  CBD Target 19a      DATE                By 2026\n",
       "12  CBD Target 19b      DATE                By 2030\n",
       "13  CBD Target 19b   PERCENT           at least 15%\n",
       "14  CBD Target 19c      DATE                By 2030\n",
       "15  CBD Target 19d      DATE                By 2030\n",
       "16  CBD Target 19e      DATE                By 2030\n",
       "17   CBD Target 1a      DATE                By 2030\n",
       "18   CBD Target 1b      DATE                By 2030\n",
       "19   CBD Target 1b   PERCENT                    30%\n",
       "20    CBD Target 2      DATE                By 2030\n",
       "21    CBD Target 2   PERCENT           at least 30%\n",
       "22   CBD Target 20      DATE                By 2030\n",
       "23   CBD Target 22      DATE                by 2030\n",
       "24   CBD Target 23  CARDINAL                  three\n",
       "25    CBD Target 4      DATE                By 2030\n",
       "26    CBD Target 4   PERCENT    at least 30 percent\n",
       "27    CBD Target 4   PERCENT                  0 20%\n",
       "28    CBD Target 4   PERCENT                    10%\n",
       "29    CBD Target 6   PERCENT           at least 50%\n",
       "30    CBD Target 6      DATE                by 2030\n",
       "31    CBD Target 7      DATE                by 2030\n",
       "32    CBD Target 9      DATE                by 2030\n",
       "33   NDC2 Target 1   PERCENT                    25%\n",
       "34   NDC2 Target 2      DATE                   2018"
      ]
     },
     "execution_count": 20,
     "metadata": {},
     "output_type": "execute_result"
    }
   ],
   "source": [
    "merged"
   ]
  },
  {
   "cell_type": "code",
   "execution_count": 20,
   "id": "d6c5d52a-b225-40a3-b8b1-c4fca07a9c95",
   "metadata": {},
   "outputs": [],
   "source": [
    "# Creates a list of time-bound terms per target\n",
    "dates = (\n",
    "    merged[merged[\"entity\"] == \"DATE\"]\n",
    "    .groupby(\"Target Name\")[\"token\"]\n",
    "    .apply(lambda x: \"; \".join(x))\n",
    "    .reset_index(name=\"dates\")\n",
    ")"
   ]
  },
  {
   "cell_type": "code",
   "execution_count": 21,
   "id": "d5878bf7-7207-428f-bdcb-dfa359eefadc",
   "metadata": {},
   "outputs": [],
   "source": [
    "# Creates a list of quantitative terms per target\n",
    "quants = (\n",
    "    merged[merged[\"entity\"] != \"DATE\"]\n",
    "    .groupby(\"Target Name\")[\"token\"]\n",
    "    .apply(lambda x: \"; \".join(x))\n",
    "    .reset_index(name=\"quants\")\n",
    ")"
   ]
  },
  {
   "cell_type": "code",
   "execution_count": 23,
   "id": "b4affed6-2c66-4e0e-b8ee-699f0cd695df",
   "metadata": {},
   "outputs": [
    {
     "data": {
      "text/html": [
       "<div>\n",
       "<style scoped>\n",
       "    .dataframe tbody tr th:only-of-type {\n",
       "        vertical-align: middle;\n",
       "    }\n",
       "\n",
       "    .dataframe tbody tr th {\n",
       "        vertical-align: top;\n",
       "    }\n",
       "\n",
       "    .dataframe thead th {\n",
       "        text-align: right;\n",
       "    }\n",
       "</style>\n",
       "<table border=\"1\" class=\"dataframe\">\n",
       "  <thead>\n",
       "    <tr style=\"text-align: right;\">\n",
       "      <th></th>\n",
       "      <th>Target Name</th>\n",
       "      <th>quants</th>\n",
       "    </tr>\n",
       "  </thead>\n",
       "  <tbody>\n",
       "    <tr>\n",
       "      <th>0</th>\n",
       "      <td>BTR1 Target 3</td>\n",
       "      <td>at least 7 billion m3</td>\n",
       "    </tr>\n",
       "    <tr>\n",
       "      <th>1</th>\n",
       "      <td>BTR1 Target 7</td>\n",
       "      <td>2 million hectares</td>\n",
       "    </tr>\n",
       "    <tr>\n",
       "      <th>2</th>\n",
       "      <td>CBD Target 19b</td>\n",
       "      <td>at least 15%</td>\n",
       "    </tr>\n",
       "    <tr>\n",
       "      <th>3</th>\n",
       "      <td>CBD Target 1b</td>\n",
       "      <td>30%</td>\n",
       "    </tr>\n",
       "    <tr>\n",
       "      <th>4</th>\n",
       "      <td>CBD Target 2</td>\n",
       "      <td>at least 30%</td>\n",
       "    </tr>\n",
       "    <tr>\n",
       "      <th>5</th>\n",
       "      <td>CBD Target 23</td>\n",
       "      <td>three</td>\n",
       "    </tr>\n",
       "    <tr>\n",
       "      <th>6</th>\n",
       "      <td>CBD Target 4</td>\n",
       "      <td>at least 30 percent; 0 20%; 10%</td>\n",
       "    </tr>\n",
       "    <tr>\n",
       "      <th>7</th>\n",
       "      <td>CBD Target 6</td>\n",
       "      <td>at least 50%</td>\n",
       "    </tr>\n",
       "    <tr>\n",
       "      <th>8</th>\n",
       "      <td>NDC2 Target 1</td>\n",
       "      <td>25%</td>\n",
       "    </tr>\n",
       "  </tbody>\n",
       "</table>\n",
       "</div>"
      ],
      "text/plain": [
       "      Target Name                           quants\n",
       "0   BTR1 Target 3            at least 7 billion m3\n",
       "1   BTR1 Target 7               2 million hectares\n",
       "2  CBD Target 19b                     at least 15%\n",
       "3   CBD Target 1b                              30%\n",
       "4    CBD Target 2                     at least 30%\n",
       "5   CBD Target 23                            three\n",
       "6    CBD Target 4  at least 30 percent; 0 20%; 10%\n",
       "7    CBD Target 6                     at least 50%\n",
       "8   NDC2 Target 1                              25%"
      ]
     },
     "execution_count": 23,
     "metadata": {},
     "output_type": "execute_result"
    }
   ],
   "source": [
    "quants"
   ]
  },
  {
   "cell_type": "code",
   "execution_count": 22,
   "id": "b3c7aa19-cdaa-4511-9ccc-6545566d860d",
   "metadata": {},
   "outputs": [],
   "source": [
    "condens = pd.merge(dates, quants, on=\"Target Name\", how=\"outer\")"
   ]
  },
  {
   "cell_type": "code",
   "execution_count": 23,
   "id": "bde04923-b63e-437b-b982-03211b891438",
   "metadata": {},
   "outputs": [],
   "source": [
    "condens[[\"dates\", \"quants\"]] = condens[[\"dates\", \"quants\"]].fillna(\"\")"
   ]
  },
  {
   "cell_type": "code",
   "execution_count": 27,
   "id": "df2720c1-a6e6-426e-8a42-9d1b0ec42e5e",
   "metadata": {
    "scrolled": true
   },
   "outputs": [
    {
     "data": {
      "text/html": [
       "<div>\n",
       "<style scoped>\n",
       "    .dataframe tbody tr th:only-of-type {\n",
       "        vertical-align: middle;\n",
       "    }\n",
       "\n",
       "    .dataframe tbody tr th {\n",
       "        vertical-align: top;\n",
       "    }\n",
       "\n",
       "    .dataframe thead th {\n",
       "        text-align: right;\n",
       "    }\n",
       "</style>\n",
       "<table border=\"1\" class=\"dataframe\">\n",
       "  <thead>\n",
       "    <tr style=\"text-align: right;\">\n",
       "      <th></th>\n",
       "      <th>Target Name</th>\n",
       "      <th>dates</th>\n",
       "      <th>quants</th>\n",
       "    </tr>\n",
       "  </thead>\n",
       "  <tbody>\n",
       "    <tr>\n",
       "      <th>0</th>\n",
       "      <td>BTR1 Target 3</td>\n",
       "      <td></td>\n",
       "      <td>at least 7 billion m3</td>\n",
       "    </tr>\n",
       "    <tr>\n",
       "      <th>1</th>\n",
       "      <td>BTR1 Target 7</td>\n",
       "      <td></td>\n",
       "      <td>2 million hectares</td>\n",
       "    </tr>\n",
       "    <tr>\n",
       "      <th>2</th>\n",
       "      <td>CBD Target 10</td>\n",
       "      <td>By 2030</td>\n",
       "      <td></td>\n",
       "    </tr>\n",
       "    <tr>\n",
       "      <th>3</th>\n",
       "      <td>CBD Target 12</td>\n",
       "      <td>By 2030</td>\n",
       "      <td></td>\n",
       "    </tr>\n",
       "    <tr>\n",
       "      <th>4</th>\n",
       "      <td>CBD Target 13</td>\n",
       "      <td>By 2030</td>\n",
       "      <td></td>\n",
       "    </tr>\n",
       "    <tr>\n",
       "      <th>5</th>\n",
       "      <td>CBD Target 15</td>\n",
       "      <td>By 2030</td>\n",
       "      <td></td>\n",
       "    </tr>\n",
       "    <tr>\n",
       "      <th>6</th>\n",
       "      <td>CBD Target 16</td>\n",
       "      <td>2030</td>\n",
       "      <td></td>\n",
       "    </tr>\n",
       "    <tr>\n",
       "      <th>7</th>\n",
       "      <td>CBD Target 17</td>\n",
       "      <td>By 2030</td>\n",
       "      <td></td>\n",
       "    </tr>\n",
       "    <tr>\n",
       "      <th>8</th>\n",
       "      <td>CBD Target 18a</td>\n",
       "      <td>By 2026</td>\n",
       "      <td></td>\n",
       "    </tr>\n",
       "    <tr>\n",
       "      <th>9</th>\n",
       "      <td>CBD Target 18b</td>\n",
       "      <td>By 2030</td>\n",
       "      <td></td>\n",
       "    </tr>\n",
       "    <tr>\n",
       "      <th>10</th>\n",
       "      <td>CBD Target 18c</td>\n",
       "      <td>By 2030</td>\n",
       "      <td></td>\n",
       "    </tr>\n",
       "    <tr>\n",
       "      <th>11</th>\n",
       "      <td>CBD Target 19a</td>\n",
       "      <td>By 2026</td>\n",
       "      <td></td>\n",
       "    </tr>\n",
       "    <tr>\n",
       "      <th>12</th>\n",
       "      <td>CBD Target 19b</td>\n",
       "      <td>By 2030</td>\n",
       "      <td>at least 15%</td>\n",
       "    </tr>\n",
       "    <tr>\n",
       "      <th>13</th>\n",
       "      <td>CBD Target 19c</td>\n",
       "      <td>By 2030</td>\n",
       "      <td></td>\n",
       "    </tr>\n",
       "    <tr>\n",
       "      <th>14</th>\n",
       "      <td>CBD Target 19d</td>\n",
       "      <td>By 2030</td>\n",
       "      <td></td>\n",
       "    </tr>\n",
       "    <tr>\n",
       "      <th>15</th>\n",
       "      <td>CBD Target 19e</td>\n",
       "      <td>By 2030</td>\n",
       "      <td></td>\n",
       "    </tr>\n",
       "    <tr>\n",
       "      <th>16</th>\n",
       "      <td>CBD Target 1a</td>\n",
       "      <td>By 2030</td>\n",
       "      <td></td>\n",
       "    </tr>\n",
       "    <tr>\n",
       "      <th>17</th>\n",
       "      <td>CBD Target 1b</td>\n",
       "      <td>By 2030</td>\n",
       "      <td>30%</td>\n",
       "    </tr>\n",
       "    <tr>\n",
       "      <th>18</th>\n",
       "      <td>CBD Target 2</td>\n",
       "      <td>By 2030</td>\n",
       "      <td>at least 30%</td>\n",
       "    </tr>\n",
       "    <tr>\n",
       "      <th>19</th>\n",
       "      <td>CBD Target 20</td>\n",
       "      <td>By 2030</td>\n",
       "      <td></td>\n",
       "    </tr>\n",
       "    <tr>\n",
       "      <th>20</th>\n",
       "      <td>CBD Target 22</td>\n",
       "      <td>by 2030</td>\n",
       "      <td></td>\n",
       "    </tr>\n",
       "    <tr>\n",
       "      <th>21</th>\n",
       "      <td>CBD Target 23</td>\n",
       "      <td></td>\n",
       "      <td>three</td>\n",
       "    </tr>\n",
       "    <tr>\n",
       "      <th>22</th>\n",
       "      <td>CBD Target 4</td>\n",
       "      <td>By 2030</td>\n",
       "      <td>at least 30 percent; 0 20%; 10%</td>\n",
       "    </tr>\n",
       "    <tr>\n",
       "      <th>23</th>\n",
       "      <td>CBD Target 6</td>\n",
       "      <td>by 2030</td>\n",
       "      <td>at least 50%</td>\n",
       "    </tr>\n",
       "    <tr>\n",
       "      <th>24</th>\n",
       "      <td>CBD Target 7</td>\n",
       "      <td>by 2030</td>\n",
       "      <td></td>\n",
       "    </tr>\n",
       "    <tr>\n",
       "      <th>25</th>\n",
       "      <td>CBD Target 9</td>\n",
       "      <td>by 2030</td>\n",
       "      <td></td>\n",
       "    </tr>\n",
       "    <tr>\n",
       "      <th>26</th>\n",
       "      <td>NDC2 Target 1</td>\n",
       "      <td></td>\n",
       "      <td>25%</td>\n",
       "    </tr>\n",
       "    <tr>\n",
       "      <th>27</th>\n",
       "      <td>NDC2 Target 2</td>\n",
       "      <td>2018</td>\n",
       "      <td></td>\n",
       "    </tr>\n",
       "  </tbody>\n",
       "</table>\n",
       "</div>"
      ],
      "text/plain": [
       "       Target Name    dates                           quants\n",
       "0    BTR1 Target 3                     at least 7 billion m3\n",
       "1    BTR1 Target 7                        2 million hectares\n",
       "2    CBD Target 10  By 2030                                 \n",
       "3    CBD Target 12  By 2030                                 \n",
       "4    CBD Target 13  By 2030                                 \n",
       "5    CBD Target 15  By 2030                                 \n",
       "6    CBD Target 16     2030                                 \n",
       "7    CBD Target 17  By 2030                                 \n",
       "8   CBD Target 18a  By 2026                                 \n",
       "9   CBD Target 18b  By 2030                                 \n",
       "10  CBD Target 18c  By 2030                                 \n",
       "11  CBD Target 19a  By 2026                                 \n",
       "12  CBD Target 19b  By 2030                     at least 15%\n",
       "13  CBD Target 19c  By 2030                                 \n",
       "14  CBD Target 19d  By 2030                                 \n",
       "15  CBD Target 19e  By 2030                                 \n",
       "16   CBD Target 1a  By 2030                                 \n",
       "17   CBD Target 1b  By 2030                              30%\n",
       "18    CBD Target 2  By 2030                     at least 30%\n",
       "19   CBD Target 20  By 2030                                 \n",
       "20   CBD Target 22  by 2030                                 \n",
       "21   CBD Target 23                                     three\n",
       "22    CBD Target 4  By 2030  at least 30 percent; 0 20%; 10%\n",
       "23    CBD Target 6  by 2030                     at least 50%\n",
       "24    CBD Target 7  by 2030                                 \n",
       "25    CBD Target 9  by 2030                                 \n",
       "26   NDC2 Target 1                                       25%\n",
       "27   NDC2 Target 2     2018                                 "
      ]
     },
     "execution_count": 27,
     "metadata": {},
     "output_type": "execute_result"
    }
   ],
   "source": [
    "condens"
   ]
  },
  {
   "cell_type": "markdown",
   "id": "b1393dfc-f611-41a5-a47d-a8319cd3da2b",
   "metadata": {},
   "source": [
    "### **Visuals**"
   ]
  },
  {
   "cell_type": "markdown",
   "id": "5348d5d8-1492-417b-a327-a93832c4c827",
   "metadata": {},
   "source": [
    "#### **Nature**"
   ]
  },
  {
   "cell_type": "code",
   "execution_count": 24,
   "id": "4cf38c14-f81b-416b-bb3e-c7c7f19acbd1",
   "metadata": {
    "scrolled": true
   },
   "outputs": [],
   "source": [
    "t_nat = [\"CBD\"]\n",
    "p_nat = \"|\".join(t_nat)\n",
    "nat = condens[condens[\"Target Name\"].str.contains(p_nat, case = False, na = False)]"
   ]
  },
  {
   "cell_type": "code",
   "execution_count": 45,
   "id": "a2de5568-ae86-439d-b90b-603315d9060e",
   "metadata": {
    "scrolled": true
   },
   "outputs": [
    {
     "data": {
      "text/html": [
       "<div>\n",
       "<style scoped>\n",
       "    .dataframe tbody tr th:only-of-type {\n",
       "        vertical-align: middle;\n",
       "    }\n",
       "\n",
       "    .dataframe tbody tr th {\n",
       "        vertical-align: top;\n",
       "    }\n",
       "\n",
       "    .dataframe thead th {\n",
       "        text-align: right;\n",
       "    }\n",
       "</style>\n",
       "<table border=\"1\" class=\"dataframe\">\n",
       "  <thead>\n",
       "    <tr style=\"text-align: right;\">\n",
       "      <th></th>\n",
       "      <th>Target Name</th>\n",
       "      <th>dates</th>\n",
       "      <th>quants</th>\n",
       "    </tr>\n",
       "  </thead>\n",
       "  <tbody>\n",
       "    <tr>\n",
       "      <th>2</th>\n",
       "      <td>CBD Target 10</td>\n",
       "      <td>By 2030</td>\n",
       "      <td></td>\n",
       "    </tr>\n",
       "    <tr>\n",
       "      <th>3</th>\n",
       "      <td>CBD Target 12</td>\n",
       "      <td>By 2030</td>\n",
       "      <td></td>\n",
       "    </tr>\n",
       "    <tr>\n",
       "      <th>4</th>\n",
       "      <td>CBD Target 13</td>\n",
       "      <td>By 2030</td>\n",
       "      <td></td>\n",
       "    </tr>\n",
       "    <tr>\n",
       "      <th>5</th>\n",
       "      <td>CBD Target 15</td>\n",
       "      <td>By 2030</td>\n",
       "      <td></td>\n",
       "    </tr>\n",
       "    <tr>\n",
       "      <th>6</th>\n",
       "      <td>CBD Target 16</td>\n",
       "      <td>2030</td>\n",
       "      <td></td>\n",
       "    </tr>\n",
       "    <tr>\n",
       "      <th>7</th>\n",
       "      <td>CBD Target 17</td>\n",
       "      <td>By 2030</td>\n",
       "      <td></td>\n",
       "    </tr>\n",
       "    <tr>\n",
       "      <th>8</th>\n",
       "      <td>CBD Target 18a</td>\n",
       "      <td>By 2026</td>\n",
       "      <td></td>\n",
       "    </tr>\n",
       "    <tr>\n",
       "      <th>9</th>\n",
       "      <td>CBD Target 18b</td>\n",
       "      <td>By 2030</td>\n",
       "      <td></td>\n",
       "    </tr>\n",
       "    <tr>\n",
       "      <th>10</th>\n",
       "      <td>CBD Target 18c</td>\n",
       "      <td>By 2030</td>\n",
       "      <td></td>\n",
       "    </tr>\n",
       "    <tr>\n",
       "      <th>11</th>\n",
       "      <td>CBD Target 19a</td>\n",
       "      <td>By 2026</td>\n",
       "      <td></td>\n",
       "    </tr>\n",
       "    <tr>\n",
       "      <th>12</th>\n",
       "      <td>CBD Target 19b</td>\n",
       "      <td>By 2030</td>\n",
       "      <td>at least 15%</td>\n",
       "    </tr>\n",
       "    <tr>\n",
       "      <th>13</th>\n",
       "      <td>CBD Target 19c</td>\n",
       "      <td>By 2030</td>\n",
       "      <td></td>\n",
       "    </tr>\n",
       "    <tr>\n",
       "      <th>14</th>\n",
       "      <td>CBD Target 19d</td>\n",
       "      <td>By 2030</td>\n",
       "      <td></td>\n",
       "    </tr>\n",
       "    <tr>\n",
       "      <th>15</th>\n",
       "      <td>CBD Target 19e</td>\n",
       "      <td>By 2030</td>\n",
       "      <td></td>\n",
       "    </tr>\n",
       "    <tr>\n",
       "      <th>16</th>\n",
       "      <td>CBD Target 1a</td>\n",
       "      <td>By 2030</td>\n",
       "      <td></td>\n",
       "    </tr>\n",
       "    <tr>\n",
       "      <th>17</th>\n",
       "      <td>CBD Target 1b</td>\n",
       "      <td>By 2030</td>\n",
       "      <td>30%</td>\n",
       "    </tr>\n",
       "    <tr>\n",
       "      <th>18</th>\n",
       "      <td>CBD Target 2</td>\n",
       "      <td>By 2030</td>\n",
       "      <td>at least 30%</td>\n",
       "    </tr>\n",
       "    <tr>\n",
       "      <th>19</th>\n",
       "      <td>CBD Target 20</td>\n",
       "      <td>By 2030</td>\n",
       "      <td></td>\n",
       "    </tr>\n",
       "    <tr>\n",
       "      <th>20</th>\n",
       "      <td>CBD Target 22</td>\n",
       "      <td>by 2030</td>\n",
       "      <td></td>\n",
       "    </tr>\n",
       "    <tr>\n",
       "      <th>21</th>\n",
       "      <td>CBD Target 23</td>\n",
       "      <td></td>\n",
       "      <td>three</td>\n",
       "    </tr>\n",
       "    <tr>\n",
       "      <th>22</th>\n",
       "      <td>CBD Target 4</td>\n",
       "      <td>By 2030</td>\n",
       "      <td>at least 30 percent; 0 20%; 10%</td>\n",
       "    </tr>\n",
       "    <tr>\n",
       "      <th>23</th>\n",
       "      <td>CBD Target 6</td>\n",
       "      <td>by 2030</td>\n",
       "      <td>at least 50%</td>\n",
       "    </tr>\n",
       "    <tr>\n",
       "      <th>24</th>\n",
       "      <td>CBD Target 7</td>\n",
       "      <td>by 2030</td>\n",
       "      <td></td>\n",
       "    </tr>\n",
       "    <tr>\n",
       "      <th>25</th>\n",
       "      <td>CBD Target 9</td>\n",
       "      <td>by 2030</td>\n",
       "      <td></td>\n",
       "    </tr>\n",
       "  </tbody>\n",
       "</table>\n",
       "</div>"
      ],
      "text/plain": [
       "       Target Name    dates                           quants\n",
       "2    CBD Target 10  By 2030                                 \n",
       "3    CBD Target 12  By 2030                                 \n",
       "4    CBD Target 13  By 2030                                 \n",
       "5    CBD Target 15  By 2030                                 \n",
       "6    CBD Target 16     2030                                 \n",
       "7    CBD Target 17  By 2030                                 \n",
       "8   CBD Target 18a  By 2026                                 \n",
       "9   CBD Target 18b  By 2030                                 \n",
       "10  CBD Target 18c  By 2030                                 \n",
       "11  CBD Target 19a  By 2026                                 \n",
       "12  CBD Target 19b  By 2030                     at least 15%\n",
       "13  CBD Target 19c  By 2030                                 \n",
       "14  CBD Target 19d  By 2030                                 \n",
       "15  CBD Target 19e  By 2030                                 \n",
       "16   CBD Target 1a  By 2030                                 \n",
       "17   CBD Target 1b  By 2030                              30%\n",
       "18    CBD Target 2  By 2030                     at least 30%\n",
       "19   CBD Target 20  By 2030                                 \n",
       "20   CBD Target 22  by 2030                                 \n",
       "21   CBD Target 23                                     three\n",
       "22    CBD Target 4  By 2030  at least 30 percent; 0 20%; 10%\n",
       "23    CBD Target 6  by 2030                     at least 50%\n",
       "24    CBD Target 7  by 2030                                 \n",
       "25    CBD Target 9  by 2030                                 "
      ]
     },
     "execution_count": 45,
     "metadata": {},
     "output_type": "execute_result"
    }
   ],
   "source": [
    "nat"
   ]
  },
  {
   "cell_type": "code",
   "execution_count": 71,
   "id": "cf0dd69e-652a-4741-af6b-250d51188097",
   "metadata": {},
   "outputs": [],
   "source": [
    "nat_qt = nat[nat['quants'] != \"\"]['quants'].str.split(';').explode('quants').str.lower().reset_index(drop=True)\n",
    "nat_tt = nat[nat['dates'] != \"\"]['dates'].str.split(';').explode('dates').str.lower().reset_index(drop=True)"
   ]
  },
  {
   "cell_type": "code",
   "execution_count": 72,
   "id": "adb10ce2-136e-4631-93cf-eef63a23a620",
   "metadata": {
    "scrolled": true
   },
   "outputs": [
    {
     "data": {
      "text/plain": [
       "0           at least 15%\n",
       "1                    30%\n",
       "2           at least 30%\n",
       "3                  three\n",
       "4    at least 30 percent\n",
       "5                  0 20%\n",
       "6                    10%\n",
       "7           at least 50%\n",
       "Name: quants, dtype: object"
      ]
     },
     "execution_count": 72,
     "metadata": {},
     "output_type": "execute_result"
    }
   ],
   "source": [
    "nat_qt"
   ]
  },
  {
   "cell_type": "code",
   "execution_count": 69,
   "id": "98e8d9f0-344a-400f-9287-52be6779befa",
   "metadata": {
    "scrolled": true
   },
   "outputs": [
    {
     "data": {
      "text/plain": [
       "0     by 2030\n",
       "1     by 2030\n",
       "2     by 2030\n",
       "3     by 2030\n",
       "4        2030\n",
       "5     by 2030\n",
       "6     by 2026\n",
       "7     by 2030\n",
       "8     by 2030\n",
       "9     by 2026\n",
       "10    by 2030\n",
       "11    by 2030\n",
       "12    by 2030\n",
       "13    by 2030\n",
       "14    by 2030\n",
       "15    by 2030\n",
       "16    by 2030\n",
       "17    by 2030\n",
       "18    by 2030\n",
       "19    by 2030\n",
       "20    by 2030\n",
       "21    by 2030\n",
       "22    by 2030\n",
       "Name: dates, dtype: object"
      ]
     },
     "execution_count": 69,
     "metadata": {},
     "output_type": "execute_result"
    }
   ],
   "source": [
    "nat_tt"
   ]
  },
  {
   "cell_type": "code",
   "execution_count": 78,
   "id": "675590ce-bb56-40f1-9bcd-a1f891609f29",
   "metadata": {},
   "outputs": [
    {
     "name": "stdout",
     "output_type": "stream",
     "text": [
      "Counter({'at least 15%': 1, '30%': 1, 'at least 30%': 1, 'three': 1, 'at least 30 percent': 1, ' 0 20%': 1, ' 10%': 1, 'at least 50%': 1})\n"
     ]
    }
   ],
   "source": [
    "wdc1 = Counter(nat_qt)\n",
    "print(wdc1)"
   ]
  },
  {
   "cell_type": "code",
   "execution_count": 97,
   "id": "ea1a297f-363d-4588-8f68-b8d6a570bcc9",
   "metadata": {},
   "outputs": [
    {
     "data": {
      "image/png": "[encoded data removed]",
      "text/plain": [
       "<Figure size 1000x500 with 1 Axes>"
      ]
     },
     "metadata": {},
     "output_type": "display_data"
    }
   ],
   "source": [
    "wordcloud = WordCloud(width = 800, height = 400, \n",
    "                      background_color = \"white\", \n",
    "                      #regexp = r'[\\w%]+'\n",
    "                     #).generate(wdc1)\n",
    "                     ).generate_from_frequencies(wdc1)\n",
    "plt.figure(figsize=(10, 5))\n",
    "plt.imshow(wordcloud, interpolation='bilinear')\n",
    "plt.axis(\"off\")\n",
    "plt.show()"
   ]
  },
  {
   "cell_type": "code",
   "execution_count": 82,
   "id": "76648cc7-423f-45bb-a1fd-7f6e2a1d7951",
   "metadata": {},
   "outputs": [
    {
     "name": "stdout",
     "output_type": "stream",
     "text": [
      "Counter({'by 2030': 20, 'by 2026': 2, '2030': 1})\n"
     ]
    }
   ],
   "source": [
    "wdc2 = Counter(nat_tt)\n",
    "print(wdc2)"
   ]
  },
  {
   "cell_type": "code",
   "execution_count": 96,
   "id": "de127ae0-6d2c-4f0e-afb5-cf1d159a85f2",
   "metadata": {},
   "outputs": [
    {
     "data": {
      "image/png": "[encoded data removed]",
      "text/plain": [
       "<Figure size 1000x500 with 1 Axes>"
      ]
     },
     "metadata": {},
     "output_type": "display_data"
    }
   ],
   "source": [
    "wordcloud = WordCloud(width = 800, height = 400, \n",
    "                      background_color = \"white\", \n",
    "                      #regexp = r'[\\w%]+'\n",
    "                     #).generate(wdc1)\n",
    "                     ).generate_from_frequencies(wdc2)\n",
    "plt.figure(figsize=(10, 5))\n",
    "plt.imshow(wordcloud, interpolation='bilinear')\n",
    "plt.axis(\"off\")\n",
    "plt.show()"
   ]
  },
  {
   "cell_type": "markdown",
   "id": "5931d1e9-9d15-472b-85b4-c788c0b5320f",
   "metadata": {},
   "source": [
    "#### **Climate**"
   ]
  },
  {
   "cell_type": "code",
   "execution_count": 36,
   "id": "974a996d-79e0-48a1-8dbb-a1bb58bd7aa8",
   "metadata": {},
   "outputs": [],
   "source": [
    "t_cli = [\"NDC\"]\n",
    "p_cli = \"|\".join(t_cli)\n",
    "cli = condens[condens[\"Target Name\"].str.contains(p_cli, case = False, na = False)]"
   ]
  },
  {
   "cell_type": "code",
   "execution_count": 46,
   "id": "5b111a2f-0e64-42e9-9ddf-042824078881",
   "metadata": {},
   "outputs": [
    {
     "data": {
      "text/html": [
       "<div>\n",
       "<style scoped>\n",
       "    .dataframe tbody tr th:only-of-type {\n",
       "        vertical-align: middle;\n",
       "    }\n",
       "\n",
       "    .dataframe tbody tr th {\n",
       "        vertical-align: top;\n",
       "    }\n",
       "\n",
       "    .dataframe thead th {\n",
       "        text-align: right;\n",
       "    }\n",
       "</style>\n",
       "<table border=\"1\" class=\"dataframe\">\n",
       "  <thead>\n",
       "    <tr style=\"text-align: right;\">\n",
       "      <th></th>\n",
       "      <th>Target Name</th>\n",
       "      <th>dates</th>\n",
       "      <th>quants</th>\n",
       "    </tr>\n",
       "  </thead>\n",
       "  <tbody>\n",
       "    <tr>\n",
       "      <th>26</th>\n",
       "      <td>NDC2 Target 1</td>\n",
       "      <td></td>\n",
       "      <td>25%</td>\n",
       "    </tr>\n",
       "    <tr>\n",
       "      <th>27</th>\n",
       "      <td>NDC2 Target 2</td>\n",
       "      <td>2018</td>\n",
       "      <td></td>\n",
       "    </tr>\n",
       "  </tbody>\n",
       "</table>\n",
       "</div>"
      ],
      "text/plain": [
       "      Target Name dates quants\n",
       "26  NDC2 Target 1          25%\n",
       "27  NDC2 Target 2  2018       "
      ]
     },
     "execution_count": 46,
     "metadata": {},
     "output_type": "execute_result"
    }
   ],
   "source": [
    "cli"
   ]
  },
  {
   "cell_type": "code",
   "execution_count": 47,
   "id": "f53c74e2-3758-42f4-9db0-aa6ec3e39683",
   "metadata": {},
   "outputs": [],
   "source": [
    "cli_qt = cli[cli['quants'] != \"\"]['quants'].str.split(';').explode('quants').reset_index(drop=True)\n",
    "cli_tt = cli[cli['dates'] != \"\"]['dates'].str.split(';').explode('dates').reset_index(drop=True)"
   ]
  },
  {
   "cell_type": "code",
   "execution_count": 48,
   "id": "0fbf6bbb-392e-490f-be0d-8fb77e2bfa2e",
   "metadata": {},
   "outputs": [
    {
     "data": {
      "text/plain": [
       "0    25%\n",
       "Name: quants, dtype: object"
      ]
     },
     "execution_count": 48,
     "metadata": {},
     "output_type": "execute_result"
    }
   ],
   "source": [
    "cli_qt"
   ]
  },
  {
   "cell_type": "code",
   "execution_count": 49,
   "id": "44ee1e1e-41dc-4de6-8cba-0852240ba42f",
   "metadata": {},
   "outputs": [
    {
     "data": {
      "text/plain": [
       "0    2018\n",
       "Name: dates, dtype: object"
      ]
     },
     "execution_count": 49,
     "metadata": {},
     "output_type": "execute_result"
    }
   ],
   "source": [
    "cli_tt"
   ]
  },
  {
   "cell_type": "code",
   "execution_count": 98,
   "id": "2d21440e-ed6a-45d5-a717-8c682aca366c",
   "metadata": {},
   "outputs": [
    {
     "name": "stdout",
     "output_type": "stream",
     "text": [
      "Counter({'25%': 1})\n"
     ]
    }
   ],
   "source": [
    "wdc3 = Counter(cli_qt)\n",
    "print(wdc3)"
   ]
  },
  {
   "cell_type": "code",
   "execution_count": 99,
   "id": "bd8e7549-daf5-48df-b002-1b3619fe19ac",
   "metadata": {},
   "outputs": [
    {
     "data": {
      "image/png": "[encoded data removed]",
      "text/plain": [
       "<Figure size 1000x500 with 1 Axes>"
      ]
     },
     "metadata": {},
     "output_type": "display_data"
    }
   ],
   "source": [
    "wordcloud = WordCloud(width = 800, height = 400, \n",
    "                      background_color = \"white\", \n",
    "                      #regexp = r'[\\w%]+'\n",
    "                     #).generate(wdc1)\n",
    "                     ).generate_from_frequencies(wdc3)\n",
    "plt.figure(figsize=(10, 5))\n",
    "plt.imshow(wordcloud, interpolation='bilinear')\n",
    "plt.axis(\"off\")\n",
    "plt.show()"
   ]
  },
  {
   "cell_type": "code",
   "execution_count": 100,
   "id": "f26ed5c9-3cd1-4a59-bf8e-bd8a442778c1",
   "metadata": {},
   "outputs": [
    {
     "name": "stdout",
     "output_type": "stream",
     "text": [
      "Counter({'2018': 1})\n"
     ]
    }
   ],
   "source": [
    "wdc4 = Counter(cli_tt)\n",
    "print(wdc4)"
   ]
  },
  {
   "cell_type": "code",
   "execution_count": 101,
   "id": "f65b7fdd-f9c2-48cd-a051-7456c280f847",
   "metadata": {},
   "outputs": [
    {
     "data": {
      "image/png": "[encoded data removed]",
      "text/plain": [
       "<Figure size 1000x500 with 1 Axes>"
      ]
     },
     "metadata": {},
     "output_type": "display_data"
    }
   ],
   "source": [
    "wordcloud = WordCloud(width = 800, height = 400, \n",
    "                      background_color = \"white\", \n",
    "                      #regexp = r'[\\w%]+'\n",
    "                     #).generate(wdc1)\n",
    "                     ).generate_from_frequencies(wdc4)\n",
    "plt.figure(figsize=(10, 5))\n",
    "plt.imshow(wordcloud, interpolation='bilinear')\n",
    "plt.axis(\"off\")\n",
    "plt.show()"
   ]
  },
  {
   "cell_type": "markdown",
   "id": "974180e8-e615-4b9d-b186-a7d27f01c7e7",
   "metadata": {},
   "source": [
    "#### **Other**"
   ]
  },
  {
   "cell_type": "code",
   "execution_count": 50,
   "id": "c3c93ba3-2c4e-4a36-bc15-e21c8cbc57b0",
   "metadata": {},
   "outputs": [],
   "source": [
    "p_oth = \"|\".join(t_nat + t_cli)\n",
    "oth = condens[~condens[\"Target Name\"].str.contains(p_oth, case = False, na = False)]"
   ]
  },
  {
   "cell_type": "code",
   "execution_count": 51,
   "id": "9f292ca2-7622-45f6-a8ac-cc80e97fd91d",
   "metadata": {
    "scrolled": true
   },
   "outputs": [
    {
     "data": {
      "text/html": [
       "<div>\n",
       "<style scoped>\n",
       "    .dataframe tbody tr th:only-of-type {\n",
       "        vertical-align: middle;\n",
       "    }\n",
       "\n",
       "    .dataframe tbody tr th {\n",
       "        vertical-align: top;\n",
       "    }\n",
       "\n",
       "    .dataframe thead th {\n",
       "        text-align: right;\n",
       "    }\n",
       "</style>\n",
       "<table border=\"1\" class=\"dataframe\">\n",
       "  <thead>\n",
       "    <tr style=\"text-align: right;\">\n",
       "      <th></th>\n",
       "      <th>Target Name</th>\n",
       "      <th>dates</th>\n",
       "      <th>quants</th>\n",
       "    </tr>\n",
       "  </thead>\n",
       "  <tbody>\n",
       "    <tr>\n",
       "      <th>0</th>\n",
       "      <td>BTR1 Target 3</td>\n",
       "      <td></td>\n",
       "      <td>at least 7 billion m3</td>\n",
       "    </tr>\n",
       "    <tr>\n",
       "      <th>1</th>\n",
       "      <td>BTR1 Target 7</td>\n",
       "      <td></td>\n",
       "      <td>2 million hectares</td>\n",
       "    </tr>\n",
       "  </tbody>\n",
       "</table>\n",
       "</div>"
      ],
      "text/plain": [
       "     Target Name dates                 quants\n",
       "0  BTR1 Target 3        at least 7 billion m3\n",
       "1  BTR1 Target 7           2 million hectares"
      ]
     },
     "execution_count": 51,
     "metadata": {},
     "output_type": "execute_result"
    }
   ],
   "source": [
    "oth"
   ]
  },
  {
   "cell_type": "code",
   "execution_count": 52,
   "id": "66fddcca-d43e-48e7-bbee-884b5471ccf6",
   "metadata": {},
   "outputs": [],
   "source": [
    "oth_qt = oth[oth['quants'] != \"\"]['quants'].str.split(';').explode('quants').reset_index(drop=True)\n",
    "oth_tt = oth[oth['dates'] != \"\"]['dates'].str.split(';').explode('dates').reset_index(drop=True)"
   ]
  },
  {
   "cell_type": "code",
   "execution_count": 53,
   "id": "b4bbaa63-301c-44b0-a313-271779556d62",
   "metadata": {},
   "outputs": [
    {
     "data": {
      "text/plain": [
       "0    at least 7 billion m3\n",
       "1       2 million hectares\n",
       "Name: quants, dtype: object"
      ]
     },
     "execution_count": 53,
     "metadata": {},
     "output_type": "execute_result"
    }
   ],
   "source": [
    "oth_qt"
   ]
  },
  {
   "cell_type": "code",
   "execution_count": 54,
   "id": "ac5a30ed-f797-45cc-8545-090d234fac7c",
   "metadata": {},
   "outputs": [
    {
     "data": {
      "text/plain": [
       "Series([], Name: dates, dtype: object)"
      ]
     },
     "execution_count": 54,
     "metadata": {},
     "output_type": "execute_result"
    }
   ],
   "source": [
    "oth_tt"
   ]
  },
  {
   "cell_type": "code",
   "execution_count": 102,
   "id": "8e089217-19c2-47a4-ad18-f82651363c48",
   "metadata": {},
   "outputs": [
    {
     "name": "stdout",
     "output_type": "stream",
     "text": [
      "Counter({'at least 7 billion m3': 1, '2 million hectares': 1})\n"
     ]
    }
   ],
   "source": [
    "wdc5 = Counter(oth_qt)\n",
    "print(wdc5)"
   ]
  },
  {
   "cell_type": "code",
   "execution_count": 103,
   "id": "56502290-4bdb-4947-bcdb-38d05b4def21",
   "metadata": {},
   "outputs": [
    {
     "data": {
      "image/png": "[encoded data removed]",
      "text/plain": [
       "<Figure size 1000x500 with 1 Axes>"
      ]
     },
     "metadata": {},
     "output_type": "display_data"
    }
   ],
   "source": [
    "wordcloud = WordCloud(width = 800, height = 400, \n",
    "                      background_color = \"white\", \n",
    "                      #regexp = r'[\\w%]+'\n",
    "                     #).generate(wdc1)\n",
    "                     ).generate_from_frequencies(wdc5)\n",
    "plt.figure(figsize=(10, 5))\n",
    "plt.imshow(wordcloud, interpolation='bilinear')\n",
    "plt.axis(\"off\")\n",
    "plt.show()"
   ]
  },
  {
   "cell_type": "code",
   "execution_count": 104,
   "id": "1be844ea-5256-4f3b-96a1-871eb2020e26",
   "metadata": {},
   "outputs": [
    {
     "name": "stdout",
     "output_type": "stream",
     "text": [
      "Counter()\n"
     ]
    }
   ],
   "source": [
    "wdc6 = Counter(oth_tt)\n",
    "print(wdc6)"
   ]
  },
  {
   "cell_type": "code",
   "execution_count": 105,
   "id": "d47018ee-39cc-4898-8e65-cec7b866a734",
   "metadata": {},
   "outputs": [
    {
     "ename": "ValueError",
     "evalue": "We need at least 1 word to plot a word cloud, got 0.",
     "output_type": "error",
     "traceback": [
      "\u001b[31m---------------------------------------------------------------------------\u001b[39m",
      "\u001b[31mValueError\u001b[39m                                Traceback (most recent call last)",
      "\u001b[36mCell\u001b[39m\u001b[36m \u001b[39m\u001b[32mIn[105]\u001b[39m\u001b[32m, line 5\u001b[39m\n\u001b[32m      1\u001b[39m wordcloud = WordCloud(width = \u001b[32m800\u001b[39m, height = \u001b[32m400\u001b[39m, \n\u001b[32m      2\u001b[39m                       background_color = \u001b[33m\"\u001b[39m\u001b[33mwhite\u001b[39m\u001b[33m\"\u001b[39m, \n\u001b[32m      3\u001b[39m                       \u001b[38;5;66;03m#regexp = r'[\\w%]+'\u001b[39;00m\n\u001b[32m      4\u001b[39m                      \u001b[38;5;66;03m#).generate(wdc1)\u001b[39;00m\n\u001b[32m----> \u001b[39m\u001b[32m5\u001b[39m                      ).generate_from_frequencies(wdc6)\n\u001b[32m      6\u001b[39m plt.figure(figsize=(\u001b[32m10\u001b[39m, \u001b[32m5\u001b[39m))\n\u001b[32m      7\u001b[39m plt.imshow(wordcloud, interpolation=\u001b[33m'\u001b[39m\u001b[33mbilinear\u001b[39m\u001b[33m'\u001b[39m)\n",
      "\u001b[36mFile \u001b[39m\u001b[32m/opt/miniconda3/envs/spacy311/lib/python3.11/site-packages/wordcloud/wordcloud.py:410\u001b[39m, in \u001b[36mWordCloud.generate_from_frequencies\u001b[39m\u001b[34m(self, frequencies, max_font_size)\u001b[39m\n\u001b[32m    408\u001b[39m frequencies = \u001b[38;5;28msorted\u001b[39m(frequencies.items(), key=itemgetter(\u001b[32m1\u001b[39m), reverse=\u001b[38;5;28;01mTrue\u001b[39;00m)\n\u001b[32m    409\u001b[39m \u001b[38;5;28;01mif\u001b[39;00m \u001b[38;5;28mlen\u001b[39m(frequencies) <= \u001b[32m0\u001b[39m:\n\u001b[32m--> \u001b[39m\u001b[32m410\u001b[39m     \u001b[38;5;28;01mraise\u001b[39;00m \u001b[38;5;167;01mValueError\u001b[39;00m(\u001b[33m\"\u001b[39m\u001b[33mWe need at least 1 word to plot a word cloud, \u001b[39m\u001b[33m\"\u001b[39m\n\u001b[32m    411\u001b[39m                      \u001b[33m\"\u001b[39m\u001b[33mgot \u001b[39m\u001b[38;5;132;01m%d\u001b[39;00m\u001b[33m.\u001b[39m\u001b[33m\"\u001b[39m % \u001b[38;5;28mlen\u001b[39m(frequencies))\n\u001b[32m    412\u001b[39m frequencies = frequencies[:\u001b[38;5;28mself\u001b[39m.max_words]\n\u001b[32m    414\u001b[39m \u001b[38;5;66;03m# largest entry will be 1\u001b[39;00m\n",
      "\u001b[31mValueError\u001b[39m: We need at least 1 word to plot a word cloud, got 0."
     ]
    }
   ],
   "source": [
    "wordcloud = WordCloud(width = 800, height = 400, \n",
    "                      background_color = \"white\", \n",
    "                      #regexp = r'[\\w%]+'\n",
    "                     #).generate(wdc1)\n",
    "                     ).generate_from_frequencies(wdc6)\n",
    "plt.figure(figsize=(10, 5))\n",
    "plt.imshow(wordcloud, interpolation='bilinear')\n",
    "plt.axis(\"off\")\n",
    "plt.show()"
   ]
  },
  {
   "cell_type": "markdown",
   "id": "094070a7-d3ae-43ec-b0ba-d177493cb072",
   "metadata": {},
   "source": [
    "### **Saving file**"
   ]
  },
  {
   "cell_type": "code",
   "execution_count": 29,
   "id": "30353958-4e00-411e-9bc9-11206ae0cb1b",
   "metadata": {},
   "outputs": [],
   "source": [
    "dta.drop([\"Country\", \"Target Text\", \"Document\", \"Source\", \"Convention\", \"Doc\", \"Type\"], axis = 1, inplace = True)"
   ]
  },
  {
   "cell_type": "code",
   "execution_count": 30,
   "id": "45b26bdb-d50c-4822-be0f-c98e8448222e",
   "metadata": {},
   "outputs": [],
   "source": [
    "final = pd.merge(dta, condens, how = \"left\")"
   ]
  },
  {
   "cell_type": "code",
   "execution_count": 31,
   "id": "4ee1f159-1295-4457-b792-8742a92f876e",
   "metadata": {
    "scrolled": true
   },
   "outputs": [
    {
     "data": {
      "text/html": [
       "<div>\n",
       "<style scoped>\n",
       "    .dataframe tbody tr th:only-of-type {\n",
       "        vertical-align: middle;\n",
       "    }\n",
       "\n",
       "    .dataframe tbody tr th {\n",
       "        vertical-align: top;\n",
       "    }\n",
       "\n",
       "    .dataframe thead th {\n",
       "        text-align: right;\n",
       "    }\n",
       "</style>\n",
       "<table border=\"1\" class=\"dataframe\">\n",
       "  <thead>\n",
       "    <tr style=\"text-align: right;\">\n",
       "      <th></th>\n",
       "      <th>Target Name</th>\n",
       "      <th>dates</th>\n",
       "      <th>quants</th>\n",
       "    </tr>\n",
       "  </thead>\n",
       "  <tbody>\n",
       "    <tr>\n",
       "      <th>0</th>\n",
       "      <td>CBD Target 1a</td>\n",
       "      <td>By 2030</td>\n",
       "      <td></td>\n",
       "    </tr>\n",
       "    <tr>\n",
       "      <th>1</th>\n",
       "      <td>CBD Target 1b</td>\n",
       "      <td>By 2030</td>\n",
       "      <td>30%</td>\n",
       "    </tr>\n",
       "    <tr>\n",
       "      <th>2</th>\n",
       "      <td>CBD Target 2</td>\n",
       "      <td>By 2030</td>\n",
       "      <td>at least 30%</td>\n",
       "    </tr>\n",
       "    <tr>\n",
       "      <th>3</th>\n",
       "      <td>CBD Target 3</td>\n",
       "      <td>NaN</td>\n",
       "      <td>NaN</td>\n",
       "    </tr>\n",
       "    <tr>\n",
       "      <th>4</th>\n",
       "      <td>CBD Target 4</td>\n",
       "      <td>By 2030</td>\n",
       "      <td>at least 30 percent; 0 20%; 10%</td>\n",
       "    </tr>\n",
       "    <tr>\n",
       "      <th>5</th>\n",
       "      <td>CBD Target 5</td>\n",
       "      <td>NaN</td>\n",
       "      <td>NaN</td>\n",
       "    </tr>\n",
       "    <tr>\n",
       "      <th>6</th>\n",
       "      <td>CBD Target 6</td>\n",
       "      <td>by 2030</td>\n",
       "      <td>at least 50%</td>\n",
       "    </tr>\n",
       "    <tr>\n",
       "      <th>7</th>\n",
       "      <td>CBD Target 7</td>\n",
       "      <td>by 2030</td>\n",
       "      <td></td>\n",
       "    </tr>\n",
       "    <tr>\n",
       "      <th>8</th>\n",
       "      <td>CBD Target 8</td>\n",
       "      <td>NaN</td>\n",
       "      <td>NaN</td>\n",
       "    </tr>\n",
       "    <tr>\n",
       "      <th>9</th>\n",
       "      <td>CBD Target 9</td>\n",
       "      <td>by 2030</td>\n",
       "      <td></td>\n",
       "    </tr>\n",
       "    <tr>\n",
       "      <th>10</th>\n",
       "      <td>CBD Target 10</td>\n",
       "      <td>By 2030</td>\n",
       "      <td></td>\n",
       "    </tr>\n",
       "    <tr>\n",
       "      <th>11</th>\n",
       "      <td>CBD Target 11</td>\n",
       "      <td>NaN</td>\n",
       "      <td>NaN</td>\n",
       "    </tr>\n",
       "    <tr>\n",
       "      <th>12</th>\n",
       "      <td>CBD Target 12</td>\n",
       "      <td>By 2030</td>\n",
       "      <td></td>\n",
       "    </tr>\n",
       "    <tr>\n",
       "      <th>13</th>\n",
       "      <td>CBD Target 13</td>\n",
       "      <td>By 2030</td>\n",
       "      <td></td>\n",
       "    </tr>\n",
       "    <tr>\n",
       "      <th>14</th>\n",
       "      <td>CBD Target 14</td>\n",
       "      <td>NaN</td>\n",
       "      <td>NaN</td>\n",
       "    </tr>\n",
       "    <tr>\n",
       "      <th>15</th>\n",
       "      <td>CBD Target 15</td>\n",
       "      <td>By 2030</td>\n",
       "      <td></td>\n",
       "    </tr>\n",
       "    <tr>\n",
       "      <th>16</th>\n",
       "      <td>CBD Target 16</td>\n",
       "      <td>2030</td>\n",
       "      <td></td>\n",
       "    </tr>\n",
       "    <tr>\n",
       "      <th>17</th>\n",
       "      <td>CBD Target 17</td>\n",
       "      <td>By 2030</td>\n",
       "      <td></td>\n",
       "    </tr>\n",
       "    <tr>\n",
       "      <th>18</th>\n",
       "      <td>CBD Target 18a</td>\n",
       "      <td>By 2026</td>\n",
       "      <td></td>\n",
       "    </tr>\n",
       "    <tr>\n",
       "      <th>19</th>\n",
       "      <td>CBD Target 18b</td>\n",
       "      <td>By 2030</td>\n",
       "      <td></td>\n",
       "    </tr>\n",
       "    <tr>\n",
       "      <th>20</th>\n",
       "      <td>CBD Target 18c</td>\n",
       "      <td>By 2030</td>\n",
       "      <td></td>\n",
       "    </tr>\n",
       "    <tr>\n",
       "      <th>21</th>\n",
       "      <td>CBD Target 19a</td>\n",
       "      <td>By 2026</td>\n",
       "      <td></td>\n",
       "    </tr>\n",
       "    <tr>\n",
       "      <th>22</th>\n",
       "      <td>CBD Target 19b</td>\n",
       "      <td>By 2030</td>\n",
       "      <td>at least 15%</td>\n",
       "    </tr>\n",
       "    <tr>\n",
       "      <th>23</th>\n",
       "      <td>CBD Target 19c</td>\n",
       "      <td>By 2030</td>\n",
       "      <td></td>\n",
       "    </tr>\n",
       "    <tr>\n",
       "      <th>24</th>\n",
       "      <td>CBD Target 19d</td>\n",
       "      <td>By 2030</td>\n",
       "      <td></td>\n",
       "    </tr>\n",
       "    <tr>\n",
       "      <th>25</th>\n",
       "      <td>CBD Target 19e</td>\n",
       "      <td>By 2030</td>\n",
       "      <td></td>\n",
       "    </tr>\n",
       "    <tr>\n",
       "      <th>26</th>\n",
       "      <td>CBD Target 20</td>\n",
       "      <td>By 2030</td>\n",
       "      <td></td>\n",
       "    </tr>\n",
       "    <tr>\n",
       "      <th>27</th>\n",
       "      <td>CBD Target 21a</td>\n",
       "      <td>NaN</td>\n",
       "      <td>NaN</td>\n",
       "    </tr>\n",
       "    <tr>\n",
       "      <th>28</th>\n",
       "      <td>CBD Target 21b</td>\n",
       "      <td>NaN</td>\n",
       "      <td>NaN</td>\n",
       "    </tr>\n",
       "    <tr>\n",
       "      <th>29</th>\n",
       "      <td>CBD Target 22</td>\n",
       "      <td>by 2030</td>\n",
       "      <td></td>\n",
       "    </tr>\n",
       "    <tr>\n",
       "      <th>30</th>\n",
       "      <td>CBD Target 23</td>\n",
       "      <td></td>\n",
       "      <td>three</td>\n",
       "    </tr>\n",
       "    <tr>\n",
       "      <th>31</th>\n",
       "      <td>BTR1 Target 1</td>\n",
       "      <td>NaN</td>\n",
       "      <td>NaN</td>\n",
       "    </tr>\n",
       "    <tr>\n",
       "      <th>32</th>\n",
       "      <td>BTR1 Target 2</td>\n",
       "      <td>NaN</td>\n",
       "      <td>NaN</td>\n",
       "    </tr>\n",
       "    <tr>\n",
       "      <th>33</th>\n",
       "      <td>BTR1 Target 3</td>\n",
       "      <td></td>\n",
       "      <td>at least 7 billion m3</td>\n",
       "    </tr>\n",
       "    <tr>\n",
       "      <th>34</th>\n",
       "      <td>BTR1 Target 4</td>\n",
       "      <td>NaN</td>\n",
       "      <td>NaN</td>\n",
       "    </tr>\n",
       "    <tr>\n",
       "      <th>35</th>\n",
       "      <td>BTR1 Target 5</td>\n",
       "      <td>NaN</td>\n",
       "      <td>NaN</td>\n",
       "    </tr>\n",
       "    <tr>\n",
       "      <th>36</th>\n",
       "      <td>BTR1 Target 6</td>\n",
       "      <td>NaN</td>\n",
       "      <td>NaN</td>\n",
       "    </tr>\n",
       "    <tr>\n",
       "      <th>37</th>\n",
       "      <td>BTR1 Target 7</td>\n",
       "      <td></td>\n",
       "      <td>2 million hectares</td>\n",
       "    </tr>\n",
       "    <tr>\n",
       "      <th>38</th>\n",
       "      <td>NDC2 Target 1</td>\n",
       "      <td></td>\n",
       "      <td>25%</td>\n",
       "    </tr>\n",
       "    <tr>\n",
       "      <th>39</th>\n",
       "      <td>NDC2 Target 2</td>\n",
       "      <td>2018</td>\n",
       "      <td></td>\n",
       "    </tr>\n",
       "    <tr>\n",
       "      <th>40</th>\n",
       "      <td>NDC2 Target 3</td>\n",
       "      <td>NaN</td>\n",
       "      <td>NaN</td>\n",
       "    </tr>\n",
       "  </tbody>\n",
       "</table>\n",
       "</div>"
      ],
      "text/plain": [
       "       Target Name    dates                           quants\n",
       "0    CBD Target 1a  By 2030                                 \n",
       "1    CBD Target 1b  By 2030                              30%\n",
       "2     CBD Target 2  By 2030                     at least 30%\n",
       "3     CBD Target 3      NaN                              NaN\n",
       "4     CBD Target 4  By 2030  at least 30 percent; 0 20%; 10%\n",
       "5     CBD Target 5      NaN                              NaN\n",
       "6     CBD Target 6  by 2030                     at least 50%\n",
       "7     CBD Target 7  by 2030                                 \n",
       "8     CBD Target 8      NaN                              NaN\n",
       "9     CBD Target 9  by 2030                                 \n",
       "10   CBD Target 10  By 2030                                 \n",
       "11   CBD Target 11      NaN                              NaN\n",
       "12   CBD Target 12  By 2030                                 \n",
       "13   CBD Target 13  By 2030                                 \n",
       "14   CBD Target 14      NaN                              NaN\n",
       "15   CBD Target 15  By 2030                                 \n",
       "16   CBD Target 16     2030                                 \n",
       "17   CBD Target 17  By 2030                                 \n",
       "18  CBD Target 18a  By 2026                                 \n",
       "19  CBD Target 18b  By 2030                                 \n",
       "20  CBD Target 18c  By 2030                                 \n",
       "21  CBD Target 19a  By 2026                                 \n",
       "22  CBD Target 19b  By 2030                     at least 15%\n",
       "23  CBD Target 19c  By 2030                                 \n",
       "24  CBD Target 19d  By 2030                                 \n",
       "25  CBD Target 19e  By 2030                                 \n",
       "26   CBD Target 20  By 2030                                 \n",
       "27  CBD Target 21a      NaN                              NaN\n",
       "28  CBD Target 21b      NaN                              NaN\n",
       "29   CBD Target 22  by 2030                                 \n",
       "30   CBD Target 23                                     three\n",
       "31   BTR1 Target 1      NaN                              NaN\n",
       "32   BTR1 Target 2      NaN                              NaN\n",
       "33   BTR1 Target 3                     at least 7 billion m3\n",
       "34   BTR1 Target 4      NaN                              NaN\n",
       "35   BTR1 Target 5      NaN                              NaN\n",
       "36   BTR1 Target 6      NaN                              NaN\n",
       "37   BTR1 Target 7                        2 million hectares\n",
       "38   NDC2 Target 1                                       25%\n",
       "39   NDC2 Target 2     2018                                 \n",
       "40   NDC2 Target 3      NaN                              NaN"
      ]
     },
     "execution_count": 31,
     "metadata": {},
     "output_type": "execute_result"
    }
   ],
   "source": [
    "final"
   ]
  },
  {
   "cell_type": "code",
   "execution_count": 37,
   "id": "e1e1031e-65f1-4e29-9060-1e1496201e1f",
   "metadata": {},
   "outputs": [],
   "source": [
    "final = final.fillna(\"\")"
   ]
  },
  {
   "cell_type": "code",
   "execution_count": 39,
   "id": "33e84013-0b88-43ae-a644-4ce310aff9bd",
   "metadata": {},
   "outputs": [],
   "source": [
    "final.to_excel(path+\"/\"+cty+\"_quantitative_\"+datetime.today().strftime(\"%d%b%y\").lstrip(\"0\")+\".xlsx\", sheet_name = \"Quantitative Terms\", index=False)"
   ]
  }
 ],
 "metadata": {
  "kernelspec": {
   "display_name": "Python 3.11 (spaCy)",
   "language": "python",
   "name": "spacy311"
  },
  "language_info": {
   "codemirror_mode": {
    "name": "ipython",
    "version": 3
   },
   "file_extension": ".py",
   "mimetype": "text/x-python",
   "name": "python",
   "nbconvert_exporter": "python",
   "pygments_lexer": "ipython3",
   "version": "3.11.11"
  }
 },
 "nbformat": 4,
 "nbformat_minor": 5
}
